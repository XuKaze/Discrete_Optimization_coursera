{
 "cells": [
  {
   "cell_type": "code",
   "execution_count": 57,
   "metadata": {},
   "outputs": [],
   "source": [
    "with open('./data/ks_19_0', 'r') as input_data_file:\n",
    "    input_data = input_data_file.read()"
   ]
  },
  {
   "cell_type": "code",
   "execution_count": 10,
   "metadata": {},
   "outputs": [],
   "source": [
    "from collections import namedtuple\n",
    "import numpy as np\n",
    "Item = namedtuple(\"Item\", ['index', 'value', 'weight'])\n",
    "\n",
    "lines = input_data.split('\\n')\n",
    "\n",
    "\n",
    "firstLine = lines[0].split()\n",
    "item_count = int(firstLine[0])\n",
    "capacity = int(firstLine[1])\n",
    "\n",
    "items = []\n",
    "\n",
    "for i in range(1, item_count+1):\n",
    "    line = lines[i]\n",
    "    parts = line.split()\n",
    "    items.append([i-1, int(parts[0]), int(parts[1])])"
   ]
  },
  {
   "cell_type": "code",
   "execution_count": 55,
   "metadata": {},
   "outputs": [
    {
     "data": {
      "text/plain": [
       "31181"
      ]
     },
     "execution_count": 55,
     "metadata": {},
     "output_type": "execute_result"
    }
   ],
   "source": [
    "capacity"
   ]
  },
  {
   "cell_type": "code",
   "execution_count": 58,
   "metadata": {},
   "outputs": [
    {
     "data": {
      "text/plain": [
       "array([[    0,  1945,  4990],\n",
       "       [    1,   321,  1142],\n",
       "       [    2,  2945,  7390],\n",
       "       [    3,  4136, 10372],\n",
       "       [    4,  1107,  3114],\n",
       "       [    5,  1022,  2744],\n",
       "       [    6,  1101,  3102],\n",
       "       [    7,  2890,  7280],\n",
       "       [    8,   962,  2624],\n",
       "       [    9,  1060,  3020],\n",
       "       [   10,   805,  2310],\n",
       "       [   11,   689,  2078],\n",
       "       [   12,  1513,  3926],\n",
       "       [   13,  3878,  9656],\n",
       "       [   14, 13504, 32708],\n",
       "       [   15,  1865,  4830],\n",
       "       [   16,   667,  2034],\n",
       "       [   17,  1833,  4766],\n",
       "       [   18, 16553, 40006]])"
      ]
     },
     "execution_count": 58,
     "metadata": {},
     "output_type": "execute_result"
    }
   ],
   "source": [
    "items_array = np.array(items)\n",
    "items_array"
   ]
  },
  {
   "cell_type": "code",
   "execution_count": 59,
   "metadata": {},
   "outputs": [],
   "source": [
    "# smaller item first\n",
    "items_array_sorted = items_array[items_array[:,2].argsort()]\n"
   ]
  },
  {
   "cell_type": "code",
   "execution_count": 61,
   "metadata": {},
   "outputs": [
    {
     "data": {
      "text/plain": [
       "11080"
      ]
     },
     "execution_count": 61,
     "metadata": {},
     "output_type": "execute_result"
    }
   ],
   "source": [
    "value = 0\n",
    "weight = 0\n",
    "taken = [0] * items_array_sorted.shape[0]\n",
    "\n",
    "for i in range(0, items_array_sorted.shape[0]):\n",
    "    if weight + items_array_sorted[:, 2][i]<= capacity:\n",
    "        value += items_array_sorted[:, 1][i]\n",
    "        weight += items_array_sorted[:, 2][i]\n",
    "        taken[items_array_sorted[:, 0][i]] = 1\n",
    "        \n",
    "value"
   ]
  },
  {
   "cell_type": "code",
   "execution_count": 64,
   "metadata": {},
   "outputs": [],
   "source": [
    "# most valueable item first\n",
    "items_array_sorted = items_array[items_array[:,1].argsort()[::-1]]\n"
   ]
  },
  {
   "cell_type": "code",
   "execution_count": 66,
   "metadata": {},
   "outputs": [],
   "source": [
    "value = 0\n",
    "weight = 0\n",
    "taken = [0] * items_array_sorted.shape[0]\n",
    "for i in range(0, items_array_sorted.shape[0]):\n",
    "    if weight + items_array_sorted[:, 2][i] <= capacity:\n",
    "        value += items_array_sorted[:, 1][i]\n",
    "        weight += items_array_sorted[:, 2][i]\n",
    "        taken[items_array_sorted[:, 0][i]] = 1"
   ]
  },
  {
   "cell_type": "code",
   "execution_count": 67,
   "metadata": {},
   "outputs": [
    {
     "data": {
      "text/plain": [
       "12066"
      ]
     },
     "execution_count": 67,
     "metadata": {},
     "output_type": "execute_result"
    }
   ],
   "source": [
    "value"
   ]
  },
  {
   "cell_type": "code",
   "execution_count": 78,
   "metadata": {},
   "outputs": [
    {
     "data": {
      "text/plain": [
       "array([[    0,  1945,  4990],\n",
       "       [    1,   321,  1142],\n",
       "       [    2,  2945,  7390],\n",
       "       [    3,  4136, 10372],\n",
       "       [    4,  1107,  3114],\n",
       "       [    5,  1022,  2744],\n",
       "       [    6,  1101,  3102],\n",
       "       [    7,  2890,  7280],\n",
       "       [    8,   962,  2624],\n",
       "       [    9,  1060,  3020],\n",
       "       [   10,   805,  2310],\n",
       "       [   11,   689,  2078],\n",
       "       [   12,  1513,  3926],\n",
       "       [   13,  3878,  9656],\n",
       "       [   14, 13504, 32708],\n",
       "       [   15,  1865,  4830],\n",
       "       [   16,   667,  2034],\n",
       "       [   17,  1833,  4766],\n",
       "       [   18, 16553, 40006]])"
      ]
     },
     "execution_count": 78,
     "metadata": {},
     "output_type": "execute_result"
    }
   ],
   "source": [
    "items_array"
   ]
  },
  {
   "cell_type": "code",
   "execution_count": 81,
   "metadata": {},
   "outputs": [
    {
     "data": {
      "text/plain": [
       "array([0.38977956, 0.28108581, 0.3985115 , 0.39876591, 0.35549133,\n",
       "       0.37244898, 0.3549323 , 0.39697802, 0.36661585, 0.35099338,\n",
       "       0.34848485, 0.33156882, 0.38537952, 0.40161558, 0.41286535,\n",
       "       0.38612836, 0.32792527, 0.38459924, 0.41376294])"
      ]
     },
     "execution_count": 81,
     "metadata": {},
     "output_type": "execute_result"
    }
   ],
   "source": []
  },
  {
   "cell_type": "code",
   "execution_count": 95,
   "metadata": {},
   "outputs": [],
   "source": [
    "np.set_printoptions(suppress=True)\n",
    "value_density = np.append(items_array,(items_array[:,1]/items_array[:,2]).reshape(-1,1), axis=1)"
   ]
  },
  {
   "cell_type": "code",
   "execution_count": 99,
   "metadata": {},
   "outputs": [
    {
     "data": {
      "text/plain": [
       "11981.0"
      ]
     },
     "execution_count": 99,
     "metadata": {},
     "output_type": "execute_result"
    }
   ],
   "source": [
    "# higher value density first\n",
    "items_array_sorted = value_density[value_density[:,3].argsort()[::-1]]\n",
    "\n",
    "\n",
    "value = 0\n",
    "weight = 0\n",
    "taken = [0] * items_array_sorted.shape[0]\n",
    "for i in range(0, items_array_sorted.shape[0]):\n",
    "    if weight + items_array_sorted[:, 2][i] <= capacity:\n",
    "        value += items_array_sorted[:, 1][i]\n",
    "        weight += items_array_sorted[:, 2][i]\n",
    "        taken[int(items_array_sorted[:, 0][i])] = 1\n",
    "        \n",
    "value"
   ]
  },
  {
   "cell_type": "code",
   "execution_count": 103,
   "metadata": {},
   "outputs": [],
   "source": [
    "import requests\n",
    "from bs4 import    BeautifulSoup"
   ]
  },
  {
   "cell_type": "code",
   "execution_count": 118,
   "metadata": {},
   "outputs": [],
   "source": [
    "url = 'https://www.benq.com/en-au/lamps/computer-desklamp/screenbar-plus.html'\n",
    "\n",
    "import urllib.request\n",
    "contents = urllib.request.urlopen(url)"
   ]
  },
  {
   "cell_type": "code",
   "execution_count": 122,
   "metadata": {},
   "outputs": [
    {
     "data": {
      "text/plain": [
       "<http.client.HTTPResponse at 0x26142b67dc8>"
      ]
     },
     "execution_count": 122,
     "metadata": {},
     "output_type": "execute_result"
    }
   ],
   "source": [
    "contents"
   ]
  }
 ],
 "metadata": {
  "kernelspec": {
   "display_name": "Python 3",
   "language": "python",
   "name": "python3"
  },
  "language_info": {
   "codemirror_mode": {
    "name": "ipython",
    "version": 3
   },
   "file_extension": ".py",
   "mimetype": "text/x-python",
   "name": "python",
   "nbconvert_exporter": "python",
   "pygments_lexer": "ipython3",
   "version": "3.7.7"
  }
 },
 "nbformat": 4,
 "nbformat_minor": 4
}
